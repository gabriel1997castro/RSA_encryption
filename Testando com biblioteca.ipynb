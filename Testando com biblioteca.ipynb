{
 "cells": [
  {
   "cell_type": "code",
   "execution_count": 9,
   "metadata": {},
   "outputs": [],
   "source": [
    "from Crypto.PublicKey import RSA\n",
    "from Crypto.Cipher import PKCS1_OAEP\n",
    "from Crypto.Signature import PKCS1_v1_5\n",
    "from Crypto.Hash import SHA512, SHA384, SHA256, SHA, MD5\n",
    "from Crypto import Random\n",
    "from base64 import b64encode, b64decode\n",
    "hash = \"SHA-256\"\n",
    "\n",
    "def newkeys(keysize):\n",
    "    random_generator = Random.new().read\n",
    "    key = RSA.generate(keysize, random_generator)\n",
    "    private, public = key, key.publickey()\n",
    "    return public, private\n",
    "\n",
    "def importKey(externKey):\n",
    "    return RSA.importKey(externKey)\n",
    "\n",
    "def getpublickey(priv_key):\n",
    "    return priv_key.publickey()\n",
    "\n",
    "def encrypt(message, pub_key):\n",
    "    cipher = PKCS1_OAEP.new(pub_key)\n",
    "    return cipher.encrypt(message)\n",
    "\n",
    "def decrypt(ciphertext, priv_key):\n",
    "    cipher = PKCS1_OAEP.new(priv_key)\n",
    "    return cipher.decrypt(ciphertext)\n",
    "\n",
    "def sign(message, priv_key, hashAlg = \"SHA-256\"):\n",
    "    global hash\n",
    "    hash = hashAlg\n",
    "    signer = PKCS1_v1_5.new(priv_key)\n",
    "   \n",
    "    if (hash == \"SHA-512\"):\n",
    "        digest = SHA512.new()\n",
    "    elif (hash == \"SHA-384\"):\n",
    "        digest = SHA384.new()\n",
    "    elif (hash == \"SHA-256\"):\n",
    "        digest = SHA256.new()\n",
    "    elif (hash == \"SHA-1\"):\n",
    "        digest = SHA.new()\n",
    "    else:\n",
    "        digest = MD5.new()\n",
    "    digest.update(message)\n",
    "    return signer.sign(digest)\n",
    "\n",
    "def verify(message, signature, pub_key):\n",
    "    signer = PKCS1_v1_5.new(pub_key)\n",
    "    if (hash == \"SHA-512\"):\n",
    "        digest = SHA512.new()\n",
    "    elif (hash == \"SHA-384\"):\n",
    "        digest = SHA384.new()\n",
    "    elif (hash == \"SHA-256\"):\n",
    "        digest = SHA256.new()\n",
    "    elif (hash == \"SHA-1\"):\n",
    "        digest = SHA.new()\n",
    "    else:\n",
    "        digest = MD5.new()\n",
    "    digest.update(message)\n",
    "    return signer.verify(digest, signature)"
   ]
  },
  {
   "cell_type": "code",
   "execution_count": 11,
   "metadata": {},
   "outputs": [
    {
     "data": {
      "text/plain": [
       "(RsaKey(n=119530295975702993249019918053536948573584154139084629808427614203499175428848834700931869223580788153066431320982629805950419590621956082867498873826019367920727642142044665665568083003859344502221823675903634510092008458413828859290758444576844240592882862127458482128754037469182597115790925298016407687513, e=65537),\n",
       " RsaKey(n=119530295975702993249019918053536948573584154139084629808427614203499175428848834700931869223580788153066431320982629805950419590621956082867498873826019367920727642142044665665568083003859344502221823675903634510092008458413828859290758444576844240592882862127458482128754037469182597115790925298016407687513, e=65537, d=9342113580169166759545826890508036275976323321575313507134407198264949973436916644703854659322999125959866522696489926367991224495538337872160873219949678699494128828117374354732644566451176015000314350337039012398578247251436894565083626954201541318693325110487690550046860553560297529612450821633672440903, p=9710733980792959533096410677611980395662619387757315804669797568221993347499921969851734302599862445335780617601774153706836752901644184059947430469736911, q=12309089736380810958927902729255183398943059514320688791199960150204835393064875204694160830174865756997709994797854664541721744525940833197404585354064983, u=2740661436989017450187920808040518454362409525141725701719741239964747426860932822435532183806139576611459826373706127252127552447616920614593431690961806))"
      ]
     },
     "execution_count": 11,
     "metadata": {},
     "output_type": "execute_result"
    }
   ],
   "source": [
    "newkeys(1024)"
   ]
  },
  {
   "cell_type": "code",
   "execution_count": 7,
   "metadata": {},
   "outputs": [],
   "source": []
  },
  {
   "cell_type": "code",
   "execution_count": 8,
   "metadata": {},
   "outputs": [],
   "source": []
  },
  {
   "cell_type": "code",
   "execution_count": null,
   "metadata": {},
   "outputs": [],
   "source": []
  }
 ],
 "metadata": {
  "kernelspec": {
   "display_name": "Python 3",
   "language": "python",
   "name": "python3"
  },
  "language_info": {
   "codemirror_mode": {
    "name": "ipython",
    "version": 3
   },
   "file_extension": ".py",
   "mimetype": "text/x-python",
   "name": "python",
   "nbconvert_exporter": "python",
   "pygments_lexer": "ipython3",
   "version": "3.8.5"
  }
 },
 "nbformat": 4,
 "nbformat_minor": 4
}
